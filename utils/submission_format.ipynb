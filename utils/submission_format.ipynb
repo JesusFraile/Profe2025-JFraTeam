{
 "cells": [
  {
   "cell_type": "code",
   "execution_count": 6,
   "id": "7092257c",
   "metadata": {},
   "outputs": [],
   "source": [
    "import pandas as pd\n",
    "import json\n",
    "import os"
   ]
  },
  {
   "cell_type": "code",
   "execution_count": 7,
   "id": "f2027b0f",
   "metadata": {},
   "outputs": [],
   "source": [
    "selectect_set='test'\n",
    "os.makedirs(f'../datasets/submission_answer/{selectect_set}_set', exist_ok=True)"
   ]
  },
  {
   "cell_type": "code",
   "execution_count": 8,
   "id": "c18e0fed",
   "metadata": {},
   "outputs": [],
   "source": [
    "df=pd.read_pickle(f'../datasets/{selectect_set}_answer.pkl')"
   ]
  },
  {
   "cell_type": "code",
   "execution_count": 9,
   "id": "d78eb1f6",
   "metadata": {},
   "outputs": [],
   "source": [
    "def get_responder_json(df):\n",
    "    columns=['option_responder', 'questionId']\n",
    "    dft=df[columns].copy()\n",
    "    result = dict(zip(dft['questionId'], dft['option_responder']))\n",
    "    with open(f'../datasets/submission_answer/{selectect_set}_set/responder_agent_{selectect_set}.json', 'w') as f:\n",
    "        json.dump(result, f, indent=4)\n",
    "\n",
    "def get_blind_responder_json(df):\n",
    "    columns=['semantic_option', 'questionId']\n",
    "    dft=df[columns].copy()\n",
    "    dft['semantic_option_map']=dft['semantic_option'].map({0:'A', 1:'B', 2:'C', 3:'D'})\n",
    "    result = dict(zip(dft['questionId'], dft['semantic_option_map']))\n",
    "    with open(f'../datasets/submission_answer/{selectect_set}_set/blind_responder_agent_{selectect_set}.json', 'w') as f:\n",
    "        json.dump(result, f, indent=4)\n",
    "\n",
    "def get_multi_agent_json(df):\n",
    "    columns=['final_answer', 'questionId']\n",
    "    dft=df[columns].copy()\n",
    "    result = dict(zip(dft['questionId'], dft['final_answer']))\n",
    "    with open(f'../datasets/submission_answer/{selectect_set}_set/multi_agent_{selectect_set}.json', 'w') as f:\n",
    "        json.dump(result, f, indent=4)"
   ]
  },
  {
   "cell_type": "code",
   "execution_count": 10,
   "id": "8f264de9",
   "metadata": {},
   "outputs": [],
   "source": [
    "get_responder_json(df)\n",
    "get_blind_responder_json(df)\n",
    "get_multi_agent_json(df)"
   ]
  },
  {
   "cell_type": "code",
   "execution_count": null,
   "id": "7cb9ca0b",
   "metadata": {},
   "outputs": [],
   "source": []
  }
 ],
 "metadata": {
  "kernelspec": {
   "display_name": "ml",
   "language": "python",
   "name": "python3"
  },
  "language_info": {
   "codemirror_mode": {
    "name": "ipython",
    "version": 3
   },
   "file_extension": ".py",
   "mimetype": "text/x-python",
   "name": "python",
   "nbconvert_exporter": "python",
   "pygments_lexer": "ipython3",
   "version": "3.13.2"
  }
 },
 "nbformat": 4,
 "nbformat_minor": 5
}
