{
 "cells": [
  {
   "cell_type": "code",
   "execution_count": 2,
   "metadata": {},
   "outputs": [],
   "source": [
    "from dotenv import load_dotenv\n",
    "import os\n",
    "\n",
    "# Cargar variables desde .env\n",
    "load_dotenv()\n",
    "\n",
    "# Obtener la clave API\n",
    "api_key = os.getenv(\"API_KEY\")"
   ]
  },
  {
   "cell_type": "code",
   "execution_count": 3,
   "metadata": {},
   "outputs": [
    {
     "data": {
      "text/plain": [
       "'your_api_key_here'"
      ]
     },
     "execution_count": 3,
     "metadata": {},
     "output_type": "execute_result"
    }
   ],
   "source": [
    "api_key"
   ]
  },
  {
   "cell_type": "code",
   "execution_count": 1,
   "metadata": {},
   "outputs": [],
   "source": [
    "import json\n",
    "\n",
    "path='train_set.json'\n",
    "with open(path, 'r') as file:\n",
    "    data=json.load(file)"
   ]
  },
  {
   "cell_type": "code",
   "execution_count": null,
   "metadata": {},
   "outputs": [
    {
     "data": {
      "text/plain": [
       "[{'level': 'B1',\n",
       "  'examId': 'B1_2004-05-14',\n",
       "  'exercises': [{'exerciseID': 'B1_2004-05-14_E3',\n",
       "    'type': 'multiple-choice',\n",
       "    'instructions': 'A continuación encontrará usted un texto y 10 preguntas sobre él.\\nMarque la opción correcta en la Hoja de Respuestas Número 1.',\n",
       "    'exercise': {'text': 'ACTIVIDADES CULTURALES Y DE OCIO\\nTEATRO\\n1. Carta de amor. La última obra de Fernando Rabal, se la ha dedicado a su madre y por eso está llena de sentimientos. El texto fue estrenado en enero en el teatro Reina Sofía, y se mueve entre la novela y la poesía. Entrada: 10 €. No hay entradas\\n2. Luces de Bohemia. Helena Pimenta, una de las directoras de teatro más importantes de España, dirige el drama “Luces de bohemia”en el teatro Cervantes de Teruel abierto al público desde 1479. La directora ha estado trabajando 2 años en esta obra.  Entrada: de 6 a 9 €.\\n3. Pan con pan. Es un texto dirigido por Miguel Muñoz. La obra está llena de personajes en la que se recuerda a los más pobres de la sociedad. En esta obra hay humor, poesía y crítica social. Ha sido premio Max de teatro 2002. Entrada con descuento para estudiantes.\\n4. Defensa de Sancho Panza. El autor y director Fernando Fernán Gómez estrenó ayer esta obra en el teatro Infanta Isabel, en Madrid. En ella el protagonista tiene que defend-erse de algunos delitos. “La idea ni es original ni es mía”, ha dicho el famoso director. Entrada: 15 €.\\nMÚSICA\\n1. The Fairy Queen. Lindsay Kemp pensó en la película “El sueño de una noche de vera-no” para hacer esta obra. Es una mezcla de música, teatro y baile. Esta obra podremos verla las próximas Navidades.\\n2. La flauta mágica de Mozart, interpretada por la compañía El Teatro Negro de Praga. Durante el mes de octubre podemos  ver y escuchar La flauta mágica en el teatro Maravillas de Jaén. La obra añade a la música el encanto de un espectáculo sin palabras.\\n3. Música religiosa en las catedrales. En las catedrales de Madrid, Plasencia y Salamanca se podrá escuchar este concierto el próximo mes de mayo, interpretado por La Orquesta de la Comunidad de Madrid dedicado a Juan Sebastián Bach. Está organizado por la Fundación Caja Madrid.\\n4. Broadway. Es el musical más famoso de todos los tiempos. Durante estos días se puede ver en El Teatro de la Ópera Nacional de Krasnodarsk en Rusia. Otro atractivo de esta obra será ver el espectáculo de luces y colores con los últimos avances tecnológicos.\\nVIAJES\\n1. Hervás (Cáceres). Duración:\\ndel 4 al 7 de abril. Precio: a partir de 250 €. Organiza: Halcón Viajes. Programa de cuatro días con natación y paseos a caballo. El precio también incluye el alojamiento en un hotel de tres estrellas con pensión completa. Viaje ahora y pague en los próximos meses.\\n2. Doñana (Huelva). Duración: del 4 al 7 de abril. Precio: 200 €. Organiza: Gente Viajera. Cuatro días en contacto directo con la naturaleza. Se realizarán excursiones por la montaña. Alojamiento en hotel de tres estrellas, con pensión completa (desayuno, comida y cena).\\n3. París (Francia). Duración: del 4 al 7 de abril. Precio: 342 €, con vuelo desde Madrid y 350 € desde Barcelona. Preguntar precios desde otras ciudades. Organiza: Viajes Barcelona. Uno de los mejores precios de la temporada, ya que incluye el transporte desde el aeropuerto hasta el hotel, el alojamiento con desayuno, guía y seguro de viaje.\\n4. Milán, Florencia y Génova (Italia). Duración: del 2 al 7 de abril. Precio: 1.168 €, con vuelo desde Barcelona y 1.198 € desde Madrid. Organiza: Turismúsica. Además de los vuelos, alojamiento con desayuno en hoteles de cuatro estrellas y seguro de viaje, este programa ofrece visitas culturales guiadas por Milán, Florencia, Pisa y Génova. También incluye las entradas a tres conciertos.\\n5. Menorca (Islas Baleares). Duración: del 1 al 8 de abril. Precio: 301 €, con vuelo desde Madrid. Consultar precios desde otras ciudades. Organiza: Águila Viajes. Perfecto para familias que quieran unas vacaciones de sol y playa. Transporte, alojamiento en régimen de media pensión (desayuno, comida o cena) y seguro incluidos.',\n",
       "     'questions': [{'questionId': 'B1_2004-05-14_E3_Q11',\n",
       "       'text': 'En la obra “Carta de amor” el autor ha dedicado la obra a :',\n",
       "       'correct-option': 'B',\n",
       "       'options': [{'optionId': 'A', 'text': 'los sentimientos.'},\n",
       "        {'optionId': 'B', 'text': 'su madre.'},\n",
       "        {'optionId': 'C', 'text': 'la reina.'}]},\n",
       "      {'questionId': 'B1_2004-05-14_E3_Q12',\n",
       "       'text': '¿Para cuál de estas obras de teatro ya no se puede comprar  entradas?:',\n",
       "       'correct-option': 'A',\n",
       "       'options': [{'optionId': 'A', 'text': '“Carta de amor”.'},\n",
       "        {'optionId': 'B', 'text': '“Luces de bohemia”.'},\n",
       "        {'optionId': 'C', 'text': '“Pan con pan”.'}]},\n",
       "      {'questionId': 'B1_2004-05-14_E3_Q13',\n",
       "       'text': 'Una de estas obras de teatro está dirigida por una mujer. ¿Cuál es?',\n",
       "       'correct-option': 'A',\n",
       "       'options': [{'optionId': 'A', 'text': '“Luces de bohemia”.'},\n",
       "        {'optionId': 'B', 'text': '“Pan con pan”.'},\n",
       "        {'optionId': 'C', 'text': '“Defensa de Sancho Panza”.'}]},\n",
       "      {'questionId': 'B1_2004-05-14_E3_Q14',\n",
       "       'text': '¿Qué concierto se puede escuchar en diciembre?',\n",
       "       'correct-option': 'A',\n",
       "       'options': [{'optionId': 'A', 'text': '“Fairy Queen”.'},\n",
       "        {'optionId': 'B', 'text': '“La flauta mágica”.'},\n",
       "        {'optionId': 'C', 'text': '“Música religiosa en las catedrales”.'}]},\n",
       "      {'questionId': 'B1_2004-05-14_E3_Q15',\n",
       "       'text': 'Según el texto, ¿qué concierto podemos oír en tres ciudades diferentes?',\n",
       "       'correct-option': 'B',\n",
       "       'options': [{'optionId': 'A', 'text': '“La flauta mágica”.'},\n",
       "        {'optionId': 'B', 'text': '“Música religiosa en las catedrales”.'},\n",
       "        {'optionId': 'C', 'text': '“Broadway”.'}]},\n",
       "      {'questionId': 'B1_2004-05-14_E3_Q16',\n",
       "       'text': '¿Cuál de los siguientes espectáculos musicales no se celebra en un teatro?',\n",
       "       'correct-option': 'B',\n",
       "       'options': [{'optionId': 'A', 'text': '“La flauta mágica”.'},\n",
       "        {'optionId': 'B', 'text': '“Música religiosa en las catedrales”.'},\n",
       "        {'optionId': 'C', 'text': '“Broadway”.'}]},\n",
       "      {'questionId': 'B1_2004-05-14_E3_Q17',\n",
       "       'text': '¿Qué viaje se puede pagar unos meses después de hacerlo?',\n",
       "       'correct-option': 'A',\n",
       "       'options': [{'optionId': 'A', 'text': 'Hervás.'},\n",
       "        {'optionId': 'B', 'text': 'Doñana.'},\n",
       "        {'optionId': 'C', 'text': 'París.'}]},\n",
       "      {'questionId': 'B1_2004-05-14_E3_Q18',\n",
       "       'text': 'El viaje a París cuesta 350 € desde:',\n",
       "       'correct-option': 'B',\n",
       "       'options': [{'optionId': 'A', 'text': 'Madrid.'},\n",
       "        {'optionId': 'B', 'text': 'Barcelona.'},\n",
       "        {'optionId': 'C', 'text': 'cualquier ciudad española.'}]},\n",
       "      {'questionId': 'B1_2004-05-14_E3_Q19',\n",
       "       'text': 'En uno de los viajes se puede asistir a conciertos. ¿En cuál?:',\n",
       "       'correct-option': 'B',\n",
       "       'options': [{'optionId': 'A', 'text': 'París.'},\n",
       "        {'optionId': 'B', 'text': 'Milán, Florencia y Génova.'},\n",
       "        {'optionId': 'C', 'text': 'Menorca.'}]},\n",
       "      {'questionId': 'B1_2004-05-14_E3_Q20',\n",
       "       'text': '¿En qué viaje están incluidas todas las comidas?',\n",
       "       'correct-option': 'A',\n",
       "       'options': [{'optionId': 'A', 'text': 'Doñana.'},\n",
       "        {'optionId': 'B', 'text': 'París.'},\n",
       "        {'optionId': 'C', 'text': 'Menorca.'}]}]}}]}]"
      ]
     },
     "execution_count": 5,
     "metadata": {},
     "output_type": "execute_result"
    }
   ],
   "source": [
    "for exam in data['exams']:\n",
    "    "
   ]
  },
  {
   "cell_type": "code",
   "execution_count": null,
   "metadata": {},
   "outputs": [
    {
     "data": {
      "text/plain": [
       "{'exerciseID': 'B1_2004-05-14_E3',\n",
       " 'type': 'multiple-choice',\n",
       " 'instructions': 'A continuación encontrará usted un texto y 10 preguntas sobre él.\\nMarque la opción correcta en la Hoja de Respuestas Número 1.',\n",
       " 'exercise': {'text': 'ACTIVIDADES CULTURALES Y DE OCIO\\nTEATRO\\n1. Carta de amor. La última obra de Fernando Rabal, se la ha dedicado a su madre y por eso está llena de sentimientos. El texto fue estrenado en enero en el teatro Reina Sofía, y se mueve entre la novela y la poesía. Entrada: 10 €. No hay entradas\\n2. Luces de Bohemia. Helena Pimenta, una de las directoras de teatro más importantes de España, dirige el drama “Luces de bohemia”en el teatro Cervantes de Teruel abierto al público desde 1479. La directora ha estado trabajando 2 años en esta obra.  Entrada: de 6 a 9 €.\\n3. Pan con pan. Es un texto dirigido por Miguel Muñoz. La obra está llena de personajes en la que se recuerda a los más pobres de la sociedad. En esta obra hay humor, poesía y crítica social. Ha sido premio Max de teatro 2002. Entrada con descuento para estudiantes.\\n4. Defensa de Sancho Panza. El autor y director Fernando Fernán Gómez estrenó ayer esta obra en el teatro Infanta Isabel, en Madrid. En ella el protagonista tiene que defend-erse de algunos delitos. “La idea ni es original ni es mía”, ha dicho el famoso director. Entrada: 15 €.\\nMÚSICA\\n1. The Fairy Queen. Lindsay Kemp pensó en la película “El sueño de una noche de vera-no” para hacer esta obra. Es una mezcla de música, teatro y baile. Esta obra podremos verla las próximas Navidades.\\n2. La flauta mágica de Mozart, interpretada por la compañía El Teatro Negro de Praga. Durante el mes de octubre podemos  ver y escuchar La flauta mágica en el teatro Maravillas de Jaén. La obra añade a la música el encanto de un espectáculo sin palabras.\\n3. Música religiosa en las catedrales. En las catedrales de Madrid, Plasencia y Salamanca se podrá escuchar este concierto el próximo mes de mayo, interpretado por La Orquesta de la Comunidad de Madrid dedicado a Juan Sebastián Bach. Está organizado por la Fundación Caja Madrid.\\n4. Broadway. Es el musical más famoso de todos los tiempos. Durante estos días se puede ver en El Teatro de la Ópera Nacional de Krasnodarsk en Rusia. Otro atractivo de esta obra será ver el espectáculo de luces y colores con los últimos avances tecnológicos.\\nVIAJES\\n1. Hervás (Cáceres). Duración:\\ndel 4 al 7 de abril. Precio: a partir de 250 €. Organiza: Halcón Viajes. Programa de cuatro días con natación y paseos a caballo. El precio también incluye el alojamiento en un hotel de tres estrellas con pensión completa. Viaje ahora y pague en los próximos meses.\\n2. Doñana (Huelva). Duración: del 4 al 7 de abril. Precio: 200 €. Organiza: Gente Viajera. Cuatro días en contacto directo con la naturaleza. Se realizarán excursiones por la montaña. Alojamiento en hotel de tres estrellas, con pensión completa (desayuno, comida y cena).\\n3. París (Francia). Duración: del 4 al 7 de abril. Precio: 342 €, con vuelo desde Madrid y 350 € desde Barcelona. Preguntar precios desde otras ciudades. Organiza: Viajes Barcelona. Uno de los mejores precios de la temporada, ya que incluye el transporte desde el aeropuerto hasta el hotel, el alojamiento con desayuno, guía y seguro de viaje.\\n4. Milán, Florencia y Génova (Italia). Duración: del 2 al 7 de abril. Precio: 1.168 €, con vuelo desde Barcelona y 1.198 € desde Madrid. Organiza: Turismúsica. Además de los vuelos, alojamiento con desayuno en hoteles de cuatro estrellas y seguro de viaje, este programa ofrece visitas culturales guiadas por Milán, Florencia, Pisa y Génova. También incluye las entradas a tres conciertos.\\n5. Menorca (Islas Baleares). Duración: del 1 al 8 de abril. Precio: 301 €, con vuelo desde Madrid. Consultar precios desde otras ciudades. Organiza: Águila Viajes. Perfecto para familias que quieran unas vacaciones de sol y playa. Transporte, alojamiento en régimen de media pensión (desayuno, comida o cena) y seguro incluidos.',\n",
       "  'questions': [{'questionId': 'B1_2004-05-14_E3_Q11',\n",
       "    'text': 'En la obra “Carta de amor” el autor ha dedicado la obra a :',\n",
       "    'correct-option': 'B',\n",
       "    'options': [{'optionId': 'A', 'text': 'los sentimientos.'},\n",
       "     {'optionId': 'B', 'text': 'su madre.'},\n",
       "     {'optionId': 'C', 'text': 'la reina.'}]},\n",
       "   {'questionId': 'B1_2004-05-14_E3_Q12',\n",
       "    'text': '¿Para cuál de estas obras de teatro ya no se puede comprar  entradas?:',\n",
       "    'correct-option': 'A',\n",
       "    'options': [{'optionId': 'A', 'text': '“Carta de amor”.'},\n",
       "     {'optionId': 'B', 'text': '“Luces de bohemia”.'},\n",
       "     {'optionId': 'C', 'text': '“Pan con pan”.'}]},\n",
       "   {'questionId': 'B1_2004-05-14_E3_Q13',\n",
       "    'text': 'Una de estas obras de teatro está dirigida por una mujer. ¿Cuál es?',\n",
       "    'correct-option': 'A',\n",
       "    'options': [{'optionId': 'A', 'text': '“Luces de bohemia”.'},\n",
       "     {'optionId': 'B', 'text': '“Pan con pan”.'},\n",
       "     {'optionId': 'C', 'text': '“Defensa de Sancho Panza”.'}]},\n",
       "   {'questionId': 'B1_2004-05-14_E3_Q14',\n",
       "    'text': '¿Qué concierto se puede escuchar en diciembre?',\n",
       "    'correct-option': 'A',\n",
       "    'options': [{'optionId': 'A', 'text': '“Fairy Queen”.'},\n",
       "     {'optionId': 'B', 'text': '“La flauta mágica”.'},\n",
       "     {'optionId': 'C', 'text': '“Música religiosa en las catedrales”.'}]},\n",
       "   {'questionId': 'B1_2004-05-14_E3_Q15',\n",
       "    'text': 'Según el texto, ¿qué concierto podemos oír en tres ciudades diferentes?',\n",
       "    'correct-option': 'B',\n",
       "    'options': [{'optionId': 'A', 'text': '“La flauta mágica”.'},\n",
       "     {'optionId': 'B', 'text': '“Música religiosa en las catedrales”.'},\n",
       "     {'optionId': 'C', 'text': '“Broadway”.'}]},\n",
       "   {'questionId': 'B1_2004-05-14_E3_Q16',\n",
       "    'text': '¿Cuál de los siguientes espectáculos musicales no se celebra en un teatro?',\n",
       "    'correct-option': 'B',\n",
       "    'options': [{'optionId': 'A', 'text': '“La flauta mágica”.'},\n",
       "     {'optionId': 'B', 'text': '“Música religiosa en las catedrales”.'},\n",
       "     {'optionId': 'C', 'text': '“Broadway”.'}]},\n",
       "   {'questionId': 'B1_2004-05-14_E3_Q17',\n",
       "    'text': '¿Qué viaje se puede pagar unos meses después de hacerlo?',\n",
       "    'correct-option': 'A',\n",
       "    'options': [{'optionId': 'A', 'text': 'Hervás.'},\n",
       "     {'optionId': 'B', 'text': 'Doñana.'},\n",
       "     {'optionId': 'C', 'text': 'París.'}]},\n",
       "   {'questionId': 'B1_2004-05-14_E3_Q18',\n",
       "    'text': 'El viaje a París cuesta 350 € desde:',\n",
       "    'correct-option': 'B',\n",
       "    'options': [{'optionId': 'A', 'text': 'Madrid.'},\n",
       "     {'optionId': 'B', 'text': 'Barcelona.'},\n",
       "     {'optionId': 'C', 'text': 'cualquier ciudad española.'}]},\n",
       "   {'questionId': 'B1_2004-05-14_E3_Q19',\n",
       "    'text': 'En uno de los viajes se puede asistir a conciertos. ¿En cuál?:',\n",
       "    'correct-option': 'B',\n",
       "    'options': [{'optionId': 'A', 'text': 'París.'},\n",
       "     {'optionId': 'B', 'text': 'Milán, Florencia y Génova.'},\n",
       "     {'optionId': 'C', 'text': 'Menorca.'}]},\n",
       "   {'questionId': 'B1_2004-05-14_E3_Q20',\n",
       "    'text': '¿En qué viaje están incluidas todas las comidas?',\n",
       "    'correct-option': 'A',\n",
       "    'options': [{'optionId': 'A', 'text': 'Doñana.'},\n",
       "     {'optionId': 'B', 'text': 'París.'},\n",
       "     {'optionId': 'C', 'text': 'Menorca.'}]}]}}"
      ]
     },
     "execution_count": 9,
     "metadata": {},
     "output_type": "execute_result"
    }
   ],
   "source": [
    "data['exams'][0]['exercises'][0]['']"
   ]
  },
  {
   "cell_type": "code",
   "execution_count": 27,
   "metadata": {},
   "outputs": [],
   "source": [
    "import time\n",
    "import pandas as pd"
   ]
  },
  {
   "cell_type": "code",
   "execution_count": 31,
   "metadata": {},
   "outputs": [
    {
     "name": "stdout",
     "output_type": "stream",
     "text": [
      "CPU times: total: 15.6 ms\n",
      "Wall time: 6.23 ms\n"
     ]
    }
   ],
   "source": [
    "%%time\n",
    "df=pd.DataFrame(columns=['exerciseID', 'exercise_text', 'questionId', 'question_text', 'A', 'B', 'C'])\n",
    "for exam in data['exams']:\n",
    "    for exercise in exam['exercises']:\n",
    "        exerciseID=exercise['exerciseID']\n",
    "        exercise_text=exercise['exercise']['text']\n",
    "        for question in exercise['exercise']['questions']:\n",
    "            questionId=question['questionId']\n",
    "            question_text=question['text']\n",
    "            a=next(item['text'] for item in question['options'] if item['optionId'] == 'A')\n",
    "            b=next(item['text'] for item in question['options'] if item['optionId'] == 'B')\n",
    "            c=next(item['text'] for item in question['options'] if item['optionId'] == 'C')\n",
    "            row={'exerciseID':exerciseID, 'exercise_text':exercise_text, 'questionId':questionId,\n",
    "                  'question_text':question_text, 'A':a, 'B':b, 'C':c}\n",
    "            df=pd.concat([df, pd.DataFrame([row])], ignore_index=True)"
   ]
  },
  {
   "cell_type": "code",
   "execution_count": 17,
   "metadata": {},
   "outputs": [
    {
     "data": {
      "application/vnd.microsoft.datawrangler.viewer.v0+json": {
       "columns": [
        {
         "name": "index",
         "rawType": "int64",
         "type": "integer"
        },
        {
         "name": "exerciseID",
         "rawType": "object",
         "type": "string"
        },
        {
         "name": "exercise_text",
         "rawType": "object",
         "type": "string"
        },
        {
         "name": "questionId",
         "rawType": "object",
         "type": "string"
        },
        {
         "name": "question_text",
         "rawType": "object",
         "type": "string"
        },
        {
         "name": "A",
         "rawType": "object",
         "type": "string"
        },
        {
         "name": "B",
         "rawType": "object",
         "type": "string"
        },
        {
         "name": "C",
         "rawType": "object",
         "type": "string"
        }
       ],
       "conversionMethod": "pd.DataFrame",
       "ref": "e5ce4ef2-3474-4f7d-b3bd-c3b76563b277",
       "rows": [
        [
         "0",
         "B1_2004-05-14_E3",
         "ACTIVIDADES CULTURALES Y DE OCIO\nTEATRO\n1. Carta de amor. La última obra de Fernando Rabal, se la ha dedicado a su madre y por eso está llena de sentimientos. El texto fue estrenado en enero en el teatro Reina Sofía, y se mueve entre la novela y la poesía. Entrada: 10 €. No hay entradas\n2. Luces de Bohemia. Helena Pimenta, una de las directoras de teatro más importantes de España, dirige el drama “Luces de bohemia”en el teatro Cervantes de Teruel abierto al público desde 1479. La directora ha estado trabajando 2 años en esta obra.  Entrada: de 6 a 9 €.\n3. Pan con pan. Es un texto dirigido por Miguel Muñoz. La obra está llena de personajes en la que se recuerda a los más pobres de la sociedad. En esta obra hay humor, poesía y crítica social. Ha sido premio Max de teatro 2002. Entrada con descuento para estudiantes.\n4. Defensa de Sancho Panza. El autor y director Fernando Fernán Gómez estrenó ayer esta obra en el teatro Infanta Isabel, en Madrid. En ella el protagonista tiene que defend-erse de algunos delitos. “La idea ni es original ni es mía”, ha dicho el famoso director. Entrada: 15 €.\nMÚSICA\n1. The Fairy Queen. Lindsay Kemp pensó en la película “El sueño de una noche de vera-no” para hacer esta obra. Es una mezcla de música, teatro y baile. Esta obra podremos verla las próximas Navidades.\n2. La flauta mágica de Mozart, interpretada por la compañía El Teatro Negro de Praga. Durante el mes de octubre podemos  ver y escuchar La flauta mágica en el teatro Maravillas de Jaén. La obra añade a la música el encanto de un espectáculo sin palabras.\n3. Música religiosa en las catedrales. En las catedrales de Madrid, Plasencia y Salamanca se podrá escuchar este concierto el próximo mes de mayo, interpretado por La Orquesta de la Comunidad de Madrid dedicado a Juan Sebastián Bach. Está organizado por la Fundación Caja Madrid.\n4. Broadway. Es el musical más famoso de todos los tiempos. Durante estos días se puede ver en El Teatro de la Ópera Nacional de Krasnodarsk en Rusia. Otro atractivo de esta obra será ver el espectáculo de luces y colores con los últimos avances tecnológicos.\nVIAJES\n1. Hervás (Cáceres). Duración:\ndel 4 al 7 de abril. Precio: a partir de 250 €. Organiza: Halcón Viajes. Programa de cuatro días con natación y paseos a caballo. El precio también incluye el alojamiento en un hotel de tres estrellas con pensión completa. Viaje ahora y pague en los próximos meses.\n2. Doñana (Huelva). Duración: del 4 al 7 de abril. Precio: 200 €. Organiza: Gente Viajera. Cuatro días en contacto directo con la naturaleza. Se realizarán excursiones por la montaña. Alojamiento en hotel de tres estrellas, con pensión completa (desayuno, comida y cena).\n3. París (Francia). Duración: del 4 al 7 de abril. Precio: 342 €, con vuelo desde Madrid y 350 € desde Barcelona. Preguntar precios desde otras ciudades. Organiza: Viajes Barcelona. Uno de los mejores precios de la temporada, ya que incluye el transporte desde el aeropuerto hasta el hotel, el alojamiento con desayuno, guía y seguro de viaje.\n4. Milán, Florencia y Génova (Italia). Duración: del 2 al 7 de abril. Precio: 1.168 €, con vuelo desde Barcelona y 1.198 € desde Madrid. Organiza: Turismúsica. Además de los vuelos, alojamiento con desayuno en hoteles de cuatro estrellas y seguro de viaje, este programa ofrece visitas culturales guiadas por Milán, Florencia, Pisa y Génova. También incluye las entradas a tres conciertos.\n5. Menorca (Islas Baleares). Duración: del 1 al 8 de abril. Precio: 301 €, con vuelo desde Madrid. Consultar precios desde otras ciudades. Organiza: Águila Viajes. Perfecto para familias que quieran unas vacaciones de sol y playa. Transporte, alojamiento en régimen de media pensión (desayuno, comida o cena) y seguro incluidos.",
         "B1_2004-05-14_E3_Q11",
         "En la obra “Carta de amor” el autor ha dedicado la obra a :",
         "los sentimientos.",
         "su madre.",
         "la reina."
        ],
        [
         "1",
         "B1_2004-05-14_E3",
         "ACTIVIDADES CULTURALES Y DE OCIO\nTEATRO\n1. Carta de amor. La última obra de Fernando Rabal, se la ha dedicado a su madre y por eso está llena de sentimientos. El texto fue estrenado en enero en el teatro Reina Sofía, y se mueve entre la novela y la poesía. Entrada: 10 €. No hay entradas\n2. Luces de Bohemia. Helena Pimenta, una de las directoras de teatro más importantes de España, dirige el drama “Luces de bohemia”en el teatro Cervantes de Teruel abierto al público desde 1479. La directora ha estado trabajando 2 años en esta obra.  Entrada: de 6 a 9 €.\n3. Pan con pan. Es un texto dirigido por Miguel Muñoz. La obra está llena de personajes en la que se recuerda a los más pobres de la sociedad. En esta obra hay humor, poesía y crítica social. Ha sido premio Max de teatro 2002. Entrada con descuento para estudiantes.\n4. Defensa de Sancho Panza. El autor y director Fernando Fernán Gómez estrenó ayer esta obra en el teatro Infanta Isabel, en Madrid. En ella el protagonista tiene que defend-erse de algunos delitos. “La idea ni es original ni es mía”, ha dicho el famoso director. Entrada: 15 €.\nMÚSICA\n1. The Fairy Queen. Lindsay Kemp pensó en la película “El sueño de una noche de vera-no” para hacer esta obra. Es una mezcla de música, teatro y baile. Esta obra podremos verla las próximas Navidades.\n2. La flauta mágica de Mozart, interpretada por la compañía El Teatro Negro de Praga. Durante el mes de octubre podemos  ver y escuchar La flauta mágica en el teatro Maravillas de Jaén. La obra añade a la música el encanto de un espectáculo sin palabras.\n3. Música religiosa en las catedrales. En las catedrales de Madrid, Plasencia y Salamanca se podrá escuchar este concierto el próximo mes de mayo, interpretado por La Orquesta de la Comunidad de Madrid dedicado a Juan Sebastián Bach. Está organizado por la Fundación Caja Madrid.\n4. Broadway. Es el musical más famoso de todos los tiempos. Durante estos días se puede ver en El Teatro de la Ópera Nacional de Krasnodarsk en Rusia. Otro atractivo de esta obra será ver el espectáculo de luces y colores con los últimos avances tecnológicos.\nVIAJES\n1. Hervás (Cáceres). Duración:\ndel 4 al 7 de abril. Precio: a partir de 250 €. Organiza: Halcón Viajes. Programa de cuatro días con natación y paseos a caballo. El precio también incluye el alojamiento en un hotel de tres estrellas con pensión completa. Viaje ahora y pague en los próximos meses.\n2. Doñana (Huelva). Duración: del 4 al 7 de abril. Precio: 200 €. Organiza: Gente Viajera. Cuatro días en contacto directo con la naturaleza. Se realizarán excursiones por la montaña. Alojamiento en hotel de tres estrellas, con pensión completa (desayuno, comida y cena).\n3. París (Francia). Duración: del 4 al 7 de abril. Precio: 342 €, con vuelo desde Madrid y 350 € desde Barcelona. Preguntar precios desde otras ciudades. Organiza: Viajes Barcelona. Uno de los mejores precios de la temporada, ya que incluye el transporte desde el aeropuerto hasta el hotel, el alojamiento con desayuno, guía y seguro de viaje.\n4. Milán, Florencia y Génova (Italia). Duración: del 2 al 7 de abril. Precio: 1.168 €, con vuelo desde Barcelona y 1.198 € desde Madrid. Organiza: Turismúsica. Además de los vuelos, alojamiento con desayuno en hoteles de cuatro estrellas y seguro de viaje, este programa ofrece visitas culturales guiadas por Milán, Florencia, Pisa y Génova. También incluye las entradas a tres conciertos.\n5. Menorca (Islas Baleares). Duración: del 1 al 8 de abril. Precio: 301 €, con vuelo desde Madrid. Consultar precios desde otras ciudades. Organiza: Águila Viajes. Perfecto para familias que quieran unas vacaciones de sol y playa. Transporte, alojamiento en régimen de media pensión (desayuno, comida o cena) y seguro incluidos.",
         "B1_2004-05-14_E3_Q12",
         "¿Para cuál de estas obras de teatro ya no se puede comprar  entradas?:",
         "“Carta de amor”.",
         "“Luces de bohemia”.",
         "“Pan con pan”."
        ],
        [
         "2",
         "B1_2004-05-14_E3",
         "ACTIVIDADES CULTURALES Y DE OCIO\nTEATRO\n1. Carta de amor. La última obra de Fernando Rabal, se la ha dedicado a su madre y por eso está llena de sentimientos. El texto fue estrenado en enero en el teatro Reina Sofía, y se mueve entre la novela y la poesía. Entrada: 10 €. No hay entradas\n2. Luces de Bohemia. Helena Pimenta, una de las directoras de teatro más importantes de España, dirige el drama “Luces de bohemia”en el teatro Cervantes de Teruel abierto al público desde 1479. La directora ha estado trabajando 2 años en esta obra.  Entrada: de 6 a 9 €.\n3. Pan con pan. Es un texto dirigido por Miguel Muñoz. La obra está llena de personajes en la que se recuerda a los más pobres de la sociedad. En esta obra hay humor, poesía y crítica social. Ha sido premio Max de teatro 2002. Entrada con descuento para estudiantes.\n4. Defensa de Sancho Panza. El autor y director Fernando Fernán Gómez estrenó ayer esta obra en el teatro Infanta Isabel, en Madrid. En ella el protagonista tiene que defend-erse de algunos delitos. “La idea ni es original ni es mía”, ha dicho el famoso director. Entrada: 15 €.\nMÚSICA\n1. The Fairy Queen. Lindsay Kemp pensó en la película “El sueño de una noche de vera-no” para hacer esta obra. Es una mezcla de música, teatro y baile. Esta obra podremos verla las próximas Navidades.\n2. La flauta mágica de Mozart, interpretada por la compañía El Teatro Negro de Praga. Durante el mes de octubre podemos  ver y escuchar La flauta mágica en el teatro Maravillas de Jaén. La obra añade a la música el encanto de un espectáculo sin palabras.\n3. Música religiosa en las catedrales. En las catedrales de Madrid, Plasencia y Salamanca se podrá escuchar este concierto el próximo mes de mayo, interpretado por La Orquesta de la Comunidad de Madrid dedicado a Juan Sebastián Bach. Está organizado por la Fundación Caja Madrid.\n4. Broadway. Es el musical más famoso de todos los tiempos. Durante estos días se puede ver en El Teatro de la Ópera Nacional de Krasnodarsk en Rusia. Otro atractivo de esta obra será ver el espectáculo de luces y colores con los últimos avances tecnológicos.\nVIAJES\n1. Hervás (Cáceres). Duración:\ndel 4 al 7 de abril. Precio: a partir de 250 €. Organiza: Halcón Viajes. Programa de cuatro días con natación y paseos a caballo. El precio también incluye el alojamiento en un hotel de tres estrellas con pensión completa. Viaje ahora y pague en los próximos meses.\n2. Doñana (Huelva). Duración: del 4 al 7 de abril. Precio: 200 €. Organiza: Gente Viajera. Cuatro días en contacto directo con la naturaleza. Se realizarán excursiones por la montaña. Alojamiento en hotel de tres estrellas, con pensión completa (desayuno, comida y cena).\n3. París (Francia). Duración: del 4 al 7 de abril. Precio: 342 €, con vuelo desde Madrid y 350 € desde Barcelona. Preguntar precios desde otras ciudades. Organiza: Viajes Barcelona. Uno de los mejores precios de la temporada, ya que incluye el transporte desde el aeropuerto hasta el hotel, el alojamiento con desayuno, guía y seguro de viaje.\n4. Milán, Florencia y Génova (Italia). Duración: del 2 al 7 de abril. Precio: 1.168 €, con vuelo desde Barcelona y 1.198 € desde Madrid. Organiza: Turismúsica. Además de los vuelos, alojamiento con desayuno en hoteles de cuatro estrellas y seguro de viaje, este programa ofrece visitas culturales guiadas por Milán, Florencia, Pisa y Génova. También incluye las entradas a tres conciertos.\n5. Menorca (Islas Baleares). Duración: del 1 al 8 de abril. Precio: 301 €, con vuelo desde Madrid. Consultar precios desde otras ciudades. Organiza: Águila Viajes. Perfecto para familias que quieran unas vacaciones de sol y playa. Transporte, alojamiento en régimen de media pensión (desayuno, comida o cena) y seguro incluidos.",
         "B1_2004-05-14_E3_Q13",
         "Una de estas obras de teatro está dirigida por una mujer. ¿Cuál es?",
         "“Luces de bohemia”.",
         "“Pan con pan”.",
         "“Defensa de Sancho Panza”."
        ],
        [
         "3",
         "B1_2004-05-14_E3",
         "ACTIVIDADES CULTURALES Y DE OCIO\nTEATRO\n1. Carta de amor. La última obra de Fernando Rabal, se la ha dedicado a su madre y por eso está llena de sentimientos. El texto fue estrenado en enero en el teatro Reina Sofía, y se mueve entre la novela y la poesía. Entrada: 10 €. No hay entradas\n2. Luces de Bohemia. Helena Pimenta, una de las directoras de teatro más importantes de España, dirige el drama “Luces de bohemia”en el teatro Cervantes de Teruel abierto al público desde 1479. La directora ha estado trabajando 2 años en esta obra.  Entrada: de 6 a 9 €.\n3. Pan con pan. Es un texto dirigido por Miguel Muñoz. La obra está llena de personajes en la que se recuerda a los más pobres de la sociedad. En esta obra hay humor, poesía y crítica social. Ha sido premio Max de teatro 2002. Entrada con descuento para estudiantes.\n4. Defensa de Sancho Panza. El autor y director Fernando Fernán Gómez estrenó ayer esta obra en el teatro Infanta Isabel, en Madrid. En ella el protagonista tiene que defend-erse de algunos delitos. “La idea ni es original ni es mía”, ha dicho el famoso director. Entrada: 15 €.\nMÚSICA\n1. The Fairy Queen. Lindsay Kemp pensó en la película “El sueño de una noche de vera-no” para hacer esta obra. Es una mezcla de música, teatro y baile. Esta obra podremos verla las próximas Navidades.\n2. La flauta mágica de Mozart, interpretada por la compañía El Teatro Negro de Praga. Durante el mes de octubre podemos  ver y escuchar La flauta mágica en el teatro Maravillas de Jaén. La obra añade a la música el encanto de un espectáculo sin palabras.\n3. Música religiosa en las catedrales. En las catedrales de Madrid, Plasencia y Salamanca se podrá escuchar este concierto el próximo mes de mayo, interpretado por La Orquesta de la Comunidad de Madrid dedicado a Juan Sebastián Bach. Está organizado por la Fundación Caja Madrid.\n4. Broadway. Es el musical más famoso de todos los tiempos. Durante estos días se puede ver en El Teatro de la Ópera Nacional de Krasnodarsk en Rusia. Otro atractivo de esta obra será ver el espectáculo de luces y colores con los últimos avances tecnológicos.\nVIAJES\n1. Hervás (Cáceres). Duración:\ndel 4 al 7 de abril. Precio: a partir de 250 €. Organiza: Halcón Viajes. Programa de cuatro días con natación y paseos a caballo. El precio también incluye el alojamiento en un hotel de tres estrellas con pensión completa. Viaje ahora y pague en los próximos meses.\n2. Doñana (Huelva). Duración: del 4 al 7 de abril. Precio: 200 €. Organiza: Gente Viajera. Cuatro días en contacto directo con la naturaleza. Se realizarán excursiones por la montaña. Alojamiento en hotel de tres estrellas, con pensión completa (desayuno, comida y cena).\n3. París (Francia). Duración: del 4 al 7 de abril. Precio: 342 €, con vuelo desde Madrid y 350 € desde Barcelona. Preguntar precios desde otras ciudades. Organiza: Viajes Barcelona. Uno de los mejores precios de la temporada, ya que incluye el transporte desde el aeropuerto hasta el hotel, el alojamiento con desayuno, guía y seguro de viaje.\n4. Milán, Florencia y Génova (Italia). Duración: del 2 al 7 de abril. Precio: 1.168 €, con vuelo desde Barcelona y 1.198 € desde Madrid. Organiza: Turismúsica. Además de los vuelos, alojamiento con desayuno en hoteles de cuatro estrellas y seguro de viaje, este programa ofrece visitas culturales guiadas por Milán, Florencia, Pisa y Génova. También incluye las entradas a tres conciertos.\n5. Menorca (Islas Baleares). Duración: del 1 al 8 de abril. Precio: 301 €, con vuelo desde Madrid. Consultar precios desde otras ciudades. Organiza: Águila Viajes. Perfecto para familias que quieran unas vacaciones de sol y playa. Transporte, alojamiento en régimen de media pensión (desayuno, comida o cena) y seguro incluidos.",
         "B1_2004-05-14_E3_Q14",
         "¿Qué concierto se puede escuchar en diciembre?",
         "“Fairy Queen”.",
         "“La flauta mágica”.",
         "“Música religiosa en las catedrales”."
        ],
        [
         "4",
         "B1_2004-05-14_E3",
         "ACTIVIDADES CULTURALES Y DE OCIO\nTEATRO\n1. Carta de amor. La última obra de Fernando Rabal, se la ha dedicado a su madre y por eso está llena de sentimientos. El texto fue estrenado en enero en el teatro Reina Sofía, y se mueve entre la novela y la poesía. Entrada: 10 €. No hay entradas\n2. Luces de Bohemia. Helena Pimenta, una de las directoras de teatro más importantes de España, dirige el drama “Luces de bohemia”en el teatro Cervantes de Teruel abierto al público desde 1479. La directora ha estado trabajando 2 años en esta obra.  Entrada: de 6 a 9 €.\n3. Pan con pan. Es un texto dirigido por Miguel Muñoz. La obra está llena de personajes en la que se recuerda a los más pobres de la sociedad. En esta obra hay humor, poesía y crítica social. Ha sido premio Max de teatro 2002. Entrada con descuento para estudiantes.\n4. Defensa de Sancho Panza. El autor y director Fernando Fernán Gómez estrenó ayer esta obra en el teatro Infanta Isabel, en Madrid. En ella el protagonista tiene que defend-erse de algunos delitos. “La idea ni es original ni es mía”, ha dicho el famoso director. Entrada: 15 €.\nMÚSICA\n1. The Fairy Queen. Lindsay Kemp pensó en la película “El sueño de una noche de vera-no” para hacer esta obra. Es una mezcla de música, teatro y baile. Esta obra podremos verla las próximas Navidades.\n2. La flauta mágica de Mozart, interpretada por la compañía El Teatro Negro de Praga. Durante el mes de octubre podemos  ver y escuchar La flauta mágica en el teatro Maravillas de Jaén. La obra añade a la música el encanto de un espectáculo sin palabras.\n3. Música religiosa en las catedrales. En las catedrales de Madrid, Plasencia y Salamanca se podrá escuchar este concierto el próximo mes de mayo, interpretado por La Orquesta de la Comunidad de Madrid dedicado a Juan Sebastián Bach. Está organizado por la Fundación Caja Madrid.\n4. Broadway. Es el musical más famoso de todos los tiempos. Durante estos días se puede ver en El Teatro de la Ópera Nacional de Krasnodarsk en Rusia. Otro atractivo de esta obra será ver el espectáculo de luces y colores con los últimos avances tecnológicos.\nVIAJES\n1. Hervás (Cáceres). Duración:\ndel 4 al 7 de abril. Precio: a partir de 250 €. Organiza: Halcón Viajes. Programa de cuatro días con natación y paseos a caballo. El precio también incluye el alojamiento en un hotel de tres estrellas con pensión completa. Viaje ahora y pague en los próximos meses.\n2. Doñana (Huelva). Duración: del 4 al 7 de abril. Precio: 200 €. Organiza: Gente Viajera. Cuatro días en contacto directo con la naturaleza. Se realizarán excursiones por la montaña. Alojamiento en hotel de tres estrellas, con pensión completa (desayuno, comida y cena).\n3. París (Francia). Duración: del 4 al 7 de abril. Precio: 342 €, con vuelo desde Madrid y 350 € desde Barcelona. Preguntar precios desde otras ciudades. Organiza: Viajes Barcelona. Uno de los mejores precios de la temporada, ya que incluye el transporte desde el aeropuerto hasta el hotel, el alojamiento con desayuno, guía y seguro de viaje.\n4. Milán, Florencia y Génova (Italia). Duración: del 2 al 7 de abril. Precio: 1.168 €, con vuelo desde Barcelona y 1.198 € desde Madrid. Organiza: Turismúsica. Además de los vuelos, alojamiento con desayuno en hoteles de cuatro estrellas y seguro de viaje, este programa ofrece visitas culturales guiadas por Milán, Florencia, Pisa y Génova. También incluye las entradas a tres conciertos.\n5. Menorca (Islas Baleares). Duración: del 1 al 8 de abril. Precio: 301 €, con vuelo desde Madrid. Consultar precios desde otras ciudades. Organiza: Águila Viajes. Perfecto para familias que quieran unas vacaciones de sol y playa. Transporte, alojamiento en régimen de media pensión (desayuno, comida o cena) y seguro incluidos.",
         "B1_2004-05-14_E3_Q15",
         "Según el texto, ¿qué concierto podemos oír en tres ciudades diferentes?",
         "“La flauta mágica”.",
         "“Música religiosa en las catedrales”.",
         "“Broadway”."
        ],
        [
         "5",
         "B1_2004-05-14_E3",
         "ACTIVIDADES CULTURALES Y DE OCIO\nTEATRO\n1. Carta de amor. La última obra de Fernando Rabal, se la ha dedicado a su madre y por eso está llena de sentimientos. El texto fue estrenado en enero en el teatro Reina Sofía, y se mueve entre la novela y la poesía. Entrada: 10 €. No hay entradas\n2. Luces de Bohemia. Helena Pimenta, una de las directoras de teatro más importantes de España, dirige el drama “Luces de bohemia”en el teatro Cervantes de Teruel abierto al público desde 1479. La directora ha estado trabajando 2 años en esta obra.  Entrada: de 6 a 9 €.\n3. Pan con pan. Es un texto dirigido por Miguel Muñoz. La obra está llena de personajes en la que se recuerda a los más pobres de la sociedad. En esta obra hay humor, poesía y crítica social. Ha sido premio Max de teatro 2002. Entrada con descuento para estudiantes.\n4. Defensa de Sancho Panza. El autor y director Fernando Fernán Gómez estrenó ayer esta obra en el teatro Infanta Isabel, en Madrid. En ella el protagonista tiene que defend-erse de algunos delitos. “La idea ni es original ni es mía”, ha dicho el famoso director. Entrada: 15 €.\nMÚSICA\n1. The Fairy Queen. Lindsay Kemp pensó en la película “El sueño de una noche de vera-no” para hacer esta obra. Es una mezcla de música, teatro y baile. Esta obra podremos verla las próximas Navidades.\n2. La flauta mágica de Mozart, interpretada por la compañía El Teatro Negro de Praga. Durante el mes de octubre podemos  ver y escuchar La flauta mágica en el teatro Maravillas de Jaén. La obra añade a la música el encanto de un espectáculo sin palabras.\n3. Música religiosa en las catedrales. En las catedrales de Madrid, Plasencia y Salamanca se podrá escuchar este concierto el próximo mes de mayo, interpretado por La Orquesta de la Comunidad de Madrid dedicado a Juan Sebastián Bach. Está organizado por la Fundación Caja Madrid.\n4. Broadway. Es el musical más famoso de todos los tiempos. Durante estos días se puede ver en El Teatro de la Ópera Nacional de Krasnodarsk en Rusia. Otro atractivo de esta obra será ver el espectáculo de luces y colores con los últimos avances tecnológicos.\nVIAJES\n1. Hervás (Cáceres). Duración:\ndel 4 al 7 de abril. Precio: a partir de 250 €. Organiza: Halcón Viajes. Programa de cuatro días con natación y paseos a caballo. El precio también incluye el alojamiento en un hotel de tres estrellas con pensión completa. Viaje ahora y pague en los próximos meses.\n2. Doñana (Huelva). Duración: del 4 al 7 de abril. Precio: 200 €. Organiza: Gente Viajera. Cuatro días en contacto directo con la naturaleza. Se realizarán excursiones por la montaña. Alojamiento en hotel de tres estrellas, con pensión completa (desayuno, comida y cena).\n3. París (Francia). Duración: del 4 al 7 de abril. Precio: 342 €, con vuelo desde Madrid y 350 € desde Barcelona. Preguntar precios desde otras ciudades. Organiza: Viajes Barcelona. Uno de los mejores precios de la temporada, ya que incluye el transporte desde el aeropuerto hasta el hotel, el alojamiento con desayuno, guía y seguro de viaje.\n4. Milán, Florencia y Génova (Italia). Duración: del 2 al 7 de abril. Precio: 1.168 €, con vuelo desde Barcelona y 1.198 € desde Madrid. Organiza: Turismúsica. Además de los vuelos, alojamiento con desayuno en hoteles de cuatro estrellas y seguro de viaje, este programa ofrece visitas culturales guiadas por Milán, Florencia, Pisa y Génova. También incluye las entradas a tres conciertos.\n5. Menorca (Islas Baleares). Duración: del 1 al 8 de abril. Precio: 301 €, con vuelo desde Madrid. Consultar precios desde otras ciudades. Organiza: Águila Viajes. Perfecto para familias que quieran unas vacaciones de sol y playa. Transporte, alojamiento en régimen de media pensión (desayuno, comida o cena) y seguro incluidos.",
         "B1_2004-05-14_E3_Q16",
         "¿Cuál de los siguientes espectáculos musicales no se celebra en un teatro?",
         "“La flauta mágica”.",
         "“Música religiosa en las catedrales”.",
         "“Broadway”."
        ],
        [
         "6",
         "B1_2004-05-14_E3",
         "ACTIVIDADES CULTURALES Y DE OCIO\nTEATRO\n1. Carta de amor. La última obra de Fernando Rabal, se la ha dedicado a su madre y por eso está llena de sentimientos. El texto fue estrenado en enero en el teatro Reina Sofía, y se mueve entre la novela y la poesía. Entrada: 10 €. No hay entradas\n2. Luces de Bohemia. Helena Pimenta, una de las directoras de teatro más importantes de España, dirige el drama “Luces de bohemia”en el teatro Cervantes de Teruel abierto al público desde 1479. La directora ha estado trabajando 2 años en esta obra.  Entrada: de 6 a 9 €.\n3. Pan con pan. Es un texto dirigido por Miguel Muñoz. La obra está llena de personajes en la que se recuerda a los más pobres de la sociedad. En esta obra hay humor, poesía y crítica social. Ha sido premio Max de teatro 2002. Entrada con descuento para estudiantes.\n4. Defensa de Sancho Panza. El autor y director Fernando Fernán Gómez estrenó ayer esta obra en el teatro Infanta Isabel, en Madrid. En ella el protagonista tiene que defend-erse de algunos delitos. “La idea ni es original ni es mía”, ha dicho el famoso director. Entrada: 15 €.\nMÚSICA\n1. The Fairy Queen. Lindsay Kemp pensó en la película “El sueño de una noche de vera-no” para hacer esta obra. Es una mezcla de música, teatro y baile. Esta obra podremos verla las próximas Navidades.\n2. La flauta mágica de Mozart, interpretada por la compañía El Teatro Negro de Praga. Durante el mes de octubre podemos  ver y escuchar La flauta mágica en el teatro Maravillas de Jaén. La obra añade a la música el encanto de un espectáculo sin palabras.\n3. Música religiosa en las catedrales. En las catedrales de Madrid, Plasencia y Salamanca se podrá escuchar este concierto el próximo mes de mayo, interpretado por La Orquesta de la Comunidad de Madrid dedicado a Juan Sebastián Bach. Está organizado por la Fundación Caja Madrid.\n4. Broadway. Es el musical más famoso de todos los tiempos. Durante estos días se puede ver en El Teatro de la Ópera Nacional de Krasnodarsk en Rusia. Otro atractivo de esta obra será ver el espectáculo de luces y colores con los últimos avances tecnológicos.\nVIAJES\n1. Hervás (Cáceres). Duración:\ndel 4 al 7 de abril. Precio: a partir de 250 €. Organiza: Halcón Viajes. Programa de cuatro días con natación y paseos a caballo. El precio también incluye el alojamiento en un hotel de tres estrellas con pensión completa. Viaje ahora y pague en los próximos meses.\n2. Doñana (Huelva). Duración: del 4 al 7 de abril. Precio: 200 €. Organiza: Gente Viajera. Cuatro días en contacto directo con la naturaleza. Se realizarán excursiones por la montaña. Alojamiento en hotel de tres estrellas, con pensión completa (desayuno, comida y cena).\n3. París (Francia). Duración: del 4 al 7 de abril. Precio: 342 €, con vuelo desde Madrid y 350 € desde Barcelona. Preguntar precios desde otras ciudades. Organiza: Viajes Barcelona. Uno de los mejores precios de la temporada, ya que incluye el transporte desde el aeropuerto hasta el hotel, el alojamiento con desayuno, guía y seguro de viaje.\n4. Milán, Florencia y Génova (Italia). Duración: del 2 al 7 de abril. Precio: 1.168 €, con vuelo desde Barcelona y 1.198 € desde Madrid. Organiza: Turismúsica. Además de los vuelos, alojamiento con desayuno en hoteles de cuatro estrellas y seguro de viaje, este programa ofrece visitas culturales guiadas por Milán, Florencia, Pisa y Génova. También incluye las entradas a tres conciertos.\n5. Menorca (Islas Baleares). Duración: del 1 al 8 de abril. Precio: 301 €, con vuelo desde Madrid. Consultar precios desde otras ciudades. Organiza: Águila Viajes. Perfecto para familias que quieran unas vacaciones de sol y playa. Transporte, alojamiento en régimen de media pensión (desayuno, comida o cena) y seguro incluidos.",
         "B1_2004-05-14_E3_Q17",
         "¿Qué viaje se puede pagar unos meses después de hacerlo?",
         "Hervás.",
         "Doñana.",
         "París."
        ],
        [
         "7",
         "B1_2004-05-14_E3",
         "ACTIVIDADES CULTURALES Y DE OCIO\nTEATRO\n1. Carta de amor. La última obra de Fernando Rabal, se la ha dedicado a su madre y por eso está llena de sentimientos. El texto fue estrenado en enero en el teatro Reina Sofía, y se mueve entre la novela y la poesía. Entrada: 10 €. No hay entradas\n2. Luces de Bohemia. Helena Pimenta, una de las directoras de teatro más importantes de España, dirige el drama “Luces de bohemia”en el teatro Cervantes de Teruel abierto al público desde 1479. La directora ha estado trabajando 2 años en esta obra.  Entrada: de 6 a 9 €.\n3. Pan con pan. Es un texto dirigido por Miguel Muñoz. La obra está llena de personajes en la que se recuerda a los más pobres de la sociedad. En esta obra hay humor, poesía y crítica social. Ha sido premio Max de teatro 2002. Entrada con descuento para estudiantes.\n4. Defensa de Sancho Panza. El autor y director Fernando Fernán Gómez estrenó ayer esta obra en el teatro Infanta Isabel, en Madrid. En ella el protagonista tiene que defend-erse de algunos delitos. “La idea ni es original ni es mía”, ha dicho el famoso director. Entrada: 15 €.\nMÚSICA\n1. The Fairy Queen. Lindsay Kemp pensó en la película “El sueño de una noche de vera-no” para hacer esta obra. Es una mezcla de música, teatro y baile. Esta obra podremos verla las próximas Navidades.\n2. La flauta mágica de Mozart, interpretada por la compañía El Teatro Negro de Praga. Durante el mes de octubre podemos  ver y escuchar La flauta mágica en el teatro Maravillas de Jaén. La obra añade a la música el encanto de un espectáculo sin palabras.\n3. Música religiosa en las catedrales. En las catedrales de Madrid, Plasencia y Salamanca se podrá escuchar este concierto el próximo mes de mayo, interpretado por La Orquesta de la Comunidad de Madrid dedicado a Juan Sebastián Bach. Está organizado por la Fundación Caja Madrid.\n4. Broadway. Es el musical más famoso de todos los tiempos. Durante estos días se puede ver en El Teatro de la Ópera Nacional de Krasnodarsk en Rusia. Otro atractivo de esta obra será ver el espectáculo de luces y colores con los últimos avances tecnológicos.\nVIAJES\n1. Hervás (Cáceres). Duración:\ndel 4 al 7 de abril. Precio: a partir de 250 €. Organiza: Halcón Viajes. Programa de cuatro días con natación y paseos a caballo. El precio también incluye el alojamiento en un hotel de tres estrellas con pensión completa. Viaje ahora y pague en los próximos meses.\n2. Doñana (Huelva). Duración: del 4 al 7 de abril. Precio: 200 €. Organiza: Gente Viajera. Cuatro días en contacto directo con la naturaleza. Se realizarán excursiones por la montaña. Alojamiento en hotel de tres estrellas, con pensión completa (desayuno, comida y cena).\n3. París (Francia). Duración: del 4 al 7 de abril. Precio: 342 €, con vuelo desde Madrid y 350 € desde Barcelona. Preguntar precios desde otras ciudades. Organiza: Viajes Barcelona. Uno de los mejores precios de la temporada, ya que incluye el transporte desde el aeropuerto hasta el hotel, el alojamiento con desayuno, guía y seguro de viaje.\n4. Milán, Florencia y Génova (Italia). Duración: del 2 al 7 de abril. Precio: 1.168 €, con vuelo desde Barcelona y 1.198 € desde Madrid. Organiza: Turismúsica. Además de los vuelos, alojamiento con desayuno en hoteles de cuatro estrellas y seguro de viaje, este programa ofrece visitas culturales guiadas por Milán, Florencia, Pisa y Génova. También incluye las entradas a tres conciertos.\n5. Menorca (Islas Baleares). Duración: del 1 al 8 de abril. Precio: 301 €, con vuelo desde Madrid. Consultar precios desde otras ciudades. Organiza: Águila Viajes. Perfecto para familias que quieran unas vacaciones de sol y playa. Transporte, alojamiento en régimen de media pensión (desayuno, comida o cena) y seguro incluidos.",
         "B1_2004-05-14_E3_Q18",
         "El viaje a París cuesta 350 € desde:",
         "Madrid.",
         "Barcelona.",
         "cualquier ciudad española."
        ],
        [
         "8",
         "B1_2004-05-14_E3",
         "ACTIVIDADES CULTURALES Y DE OCIO\nTEATRO\n1. Carta de amor. La última obra de Fernando Rabal, se la ha dedicado a su madre y por eso está llena de sentimientos. El texto fue estrenado en enero en el teatro Reina Sofía, y se mueve entre la novela y la poesía. Entrada: 10 €. No hay entradas\n2. Luces de Bohemia. Helena Pimenta, una de las directoras de teatro más importantes de España, dirige el drama “Luces de bohemia”en el teatro Cervantes de Teruel abierto al público desde 1479. La directora ha estado trabajando 2 años en esta obra.  Entrada: de 6 a 9 €.\n3. Pan con pan. Es un texto dirigido por Miguel Muñoz. La obra está llena de personajes en la que se recuerda a los más pobres de la sociedad. En esta obra hay humor, poesía y crítica social. Ha sido premio Max de teatro 2002. Entrada con descuento para estudiantes.\n4. Defensa de Sancho Panza. El autor y director Fernando Fernán Gómez estrenó ayer esta obra en el teatro Infanta Isabel, en Madrid. En ella el protagonista tiene que defend-erse de algunos delitos. “La idea ni es original ni es mía”, ha dicho el famoso director. Entrada: 15 €.\nMÚSICA\n1. The Fairy Queen. Lindsay Kemp pensó en la película “El sueño de una noche de vera-no” para hacer esta obra. Es una mezcla de música, teatro y baile. Esta obra podremos verla las próximas Navidades.\n2. La flauta mágica de Mozart, interpretada por la compañía El Teatro Negro de Praga. Durante el mes de octubre podemos  ver y escuchar La flauta mágica en el teatro Maravillas de Jaén. La obra añade a la música el encanto de un espectáculo sin palabras.\n3. Música religiosa en las catedrales. En las catedrales de Madrid, Plasencia y Salamanca se podrá escuchar este concierto el próximo mes de mayo, interpretado por La Orquesta de la Comunidad de Madrid dedicado a Juan Sebastián Bach. Está organizado por la Fundación Caja Madrid.\n4. Broadway. Es el musical más famoso de todos los tiempos. Durante estos días se puede ver en El Teatro de la Ópera Nacional de Krasnodarsk en Rusia. Otro atractivo de esta obra será ver el espectáculo de luces y colores con los últimos avances tecnológicos.\nVIAJES\n1. Hervás (Cáceres). Duración:\ndel 4 al 7 de abril. Precio: a partir de 250 €. Organiza: Halcón Viajes. Programa de cuatro días con natación y paseos a caballo. El precio también incluye el alojamiento en un hotel de tres estrellas con pensión completa. Viaje ahora y pague en los próximos meses.\n2. Doñana (Huelva). Duración: del 4 al 7 de abril. Precio: 200 €. Organiza: Gente Viajera. Cuatro días en contacto directo con la naturaleza. Se realizarán excursiones por la montaña. Alojamiento en hotel de tres estrellas, con pensión completa (desayuno, comida y cena).\n3. París (Francia). Duración: del 4 al 7 de abril. Precio: 342 €, con vuelo desde Madrid y 350 € desde Barcelona. Preguntar precios desde otras ciudades. Organiza: Viajes Barcelona. Uno de los mejores precios de la temporada, ya que incluye el transporte desde el aeropuerto hasta el hotel, el alojamiento con desayuno, guía y seguro de viaje.\n4. Milán, Florencia y Génova (Italia). Duración: del 2 al 7 de abril. Precio: 1.168 €, con vuelo desde Barcelona y 1.198 € desde Madrid. Organiza: Turismúsica. Además de los vuelos, alojamiento con desayuno en hoteles de cuatro estrellas y seguro de viaje, este programa ofrece visitas culturales guiadas por Milán, Florencia, Pisa y Génova. También incluye las entradas a tres conciertos.\n5. Menorca (Islas Baleares). Duración: del 1 al 8 de abril. Precio: 301 €, con vuelo desde Madrid. Consultar precios desde otras ciudades. Organiza: Águila Viajes. Perfecto para familias que quieran unas vacaciones de sol y playa. Transporte, alojamiento en régimen de media pensión (desayuno, comida o cena) y seguro incluidos.",
         "B1_2004-05-14_E3_Q19",
         "En uno de los viajes se puede asistir a conciertos. ¿En cuál?:",
         "París.",
         "Milán, Florencia y Génova.",
         "Menorca."
        ],
        [
         "9",
         "B1_2004-05-14_E3",
         "ACTIVIDADES CULTURALES Y DE OCIO\nTEATRO\n1. Carta de amor. La última obra de Fernando Rabal, se la ha dedicado a su madre y por eso está llena de sentimientos. El texto fue estrenado en enero en el teatro Reina Sofía, y se mueve entre la novela y la poesía. Entrada: 10 €. No hay entradas\n2. Luces de Bohemia. Helena Pimenta, una de las directoras de teatro más importantes de España, dirige el drama “Luces de bohemia”en el teatro Cervantes de Teruel abierto al público desde 1479. La directora ha estado trabajando 2 años en esta obra.  Entrada: de 6 a 9 €.\n3. Pan con pan. Es un texto dirigido por Miguel Muñoz. La obra está llena de personajes en la que se recuerda a los más pobres de la sociedad. En esta obra hay humor, poesía y crítica social. Ha sido premio Max de teatro 2002. Entrada con descuento para estudiantes.\n4. Defensa de Sancho Panza. El autor y director Fernando Fernán Gómez estrenó ayer esta obra en el teatro Infanta Isabel, en Madrid. En ella el protagonista tiene que defend-erse de algunos delitos. “La idea ni es original ni es mía”, ha dicho el famoso director. Entrada: 15 €.\nMÚSICA\n1. The Fairy Queen. Lindsay Kemp pensó en la película “El sueño de una noche de vera-no” para hacer esta obra. Es una mezcla de música, teatro y baile. Esta obra podremos verla las próximas Navidades.\n2. La flauta mágica de Mozart, interpretada por la compañía El Teatro Negro de Praga. Durante el mes de octubre podemos  ver y escuchar La flauta mágica en el teatro Maravillas de Jaén. La obra añade a la música el encanto de un espectáculo sin palabras.\n3. Música religiosa en las catedrales. En las catedrales de Madrid, Plasencia y Salamanca se podrá escuchar este concierto el próximo mes de mayo, interpretado por La Orquesta de la Comunidad de Madrid dedicado a Juan Sebastián Bach. Está organizado por la Fundación Caja Madrid.\n4. Broadway. Es el musical más famoso de todos los tiempos. Durante estos días se puede ver en El Teatro de la Ópera Nacional de Krasnodarsk en Rusia. Otro atractivo de esta obra será ver el espectáculo de luces y colores con los últimos avances tecnológicos.\nVIAJES\n1. Hervás (Cáceres). Duración:\ndel 4 al 7 de abril. Precio: a partir de 250 €. Organiza: Halcón Viajes. Programa de cuatro días con natación y paseos a caballo. El precio también incluye el alojamiento en un hotel de tres estrellas con pensión completa. Viaje ahora y pague en los próximos meses.\n2. Doñana (Huelva). Duración: del 4 al 7 de abril. Precio: 200 €. Organiza: Gente Viajera. Cuatro días en contacto directo con la naturaleza. Se realizarán excursiones por la montaña. Alojamiento en hotel de tres estrellas, con pensión completa (desayuno, comida y cena).\n3. París (Francia). Duración: del 4 al 7 de abril. Precio: 342 €, con vuelo desde Madrid y 350 € desde Barcelona. Preguntar precios desde otras ciudades. Organiza: Viajes Barcelona. Uno de los mejores precios de la temporada, ya que incluye el transporte desde el aeropuerto hasta el hotel, el alojamiento con desayuno, guía y seguro de viaje.\n4. Milán, Florencia y Génova (Italia). Duración: del 2 al 7 de abril. Precio: 1.168 €, con vuelo desde Barcelona y 1.198 € desde Madrid. Organiza: Turismúsica. Además de los vuelos, alojamiento con desayuno en hoteles de cuatro estrellas y seguro de viaje, este programa ofrece visitas culturales guiadas por Milán, Florencia, Pisa y Génova. También incluye las entradas a tres conciertos.\n5. Menorca (Islas Baleares). Duración: del 1 al 8 de abril. Precio: 301 €, con vuelo desde Madrid. Consultar precios desde otras ciudades. Organiza: Águila Viajes. Perfecto para familias que quieran unas vacaciones de sol y playa. Transporte, alojamiento en régimen de media pensión (desayuno, comida o cena) y seguro incluidos.",
         "B1_2004-05-14_E3_Q20",
         "¿En qué viaje están incluidas todas las comidas?",
         "Doñana.",
         "París.",
         "Menorca."
        ]
       ],
       "shape": {
        "columns": 7,
        "rows": 10
       }
      },
      "text/html": [
       "<div>\n",
       "<style scoped>\n",
       "    .dataframe tbody tr th:only-of-type {\n",
       "        vertical-align: middle;\n",
       "    }\n",
       "\n",
       "    .dataframe tbody tr th {\n",
       "        vertical-align: top;\n",
       "    }\n",
       "\n",
       "    .dataframe thead th {\n",
       "        text-align: right;\n",
       "    }\n",
       "</style>\n",
       "<table border=\"1\" class=\"dataframe\">\n",
       "  <thead>\n",
       "    <tr style=\"text-align: right;\">\n",
       "      <th></th>\n",
       "      <th>exerciseID</th>\n",
       "      <th>exercise_text</th>\n",
       "      <th>questionId</th>\n",
       "      <th>question_text</th>\n",
       "      <th>A</th>\n",
       "      <th>B</th>\n",
       "      <th>C</th>\n",
       "    </tr>\n",
       "  </thead>\n",
       "  <tbody>\n",
       "    <tr>\n",
       "      <th>0</th>\n",
       "      <td>B1_2004-05-14_E3</td>\n",
       "      <td>ACTIVIDADES CULTURALES Y DE OCIO\\nTEATRO\\n1. C...</td>\n",
       "      <td>B1_2004-05-14_E3_Q11</td>\n",
       "      <td>En la obra “Carta de amor” el autor ha dedicad...</td>\n",
       "      <td>los sentimientos.</td>\n",
       "      <td>su madre.</td>\n",
       "      <td>la reina.</td>\n",
       "    </tr>\n",
       "    <tr>\n",
       "      <th>1</th>\n",
       "      <td>B1_2004-05-14_E3</td>\n",
       "      <td>ACTIVIDADES CULTURALES Y DE OCIO\\nTEATRO\\n1. C...</td>\n",
       "      <td>B1_2004-05-14_E3_Q12</td>\n",
       "      <td>¿Para cuál de estas obras de teatro ya no se p...</td>\n",
       "      <td>“Carta de amor”.</td>\n",
       "      <td>“Luces de bohemia”.</td>\n",
       "      <td>“Pan con pan”.</td>\n",
       "    </tr>\n",
       "    <tr>\n",
       "      <th>2</th>\n",
       "      <td>B1_2004-05-14_E3</td>\n",
       "      <td>ACTIVIDADES CULTURALES Y DE OCIO\\nTEATRO\\n1. C...</td>\n",
       "      <td>B1_2004-05-14_E3_Q13</td>\n",
       "      <td>Una de estas obras de teatro está dirigida por...</td>\n",
       "      <td>“Luces de bohemia”.</td>\n",
       "      <td>“Pan con pan”.</td>\n",
       "      <td>“Defensa de Sancho Panza”.</td>\n",
       "    </tr>\n",
       "    <tr>\n",
       "      <th>3</th>\n",
       "      <td>B1_2004-05-14_E3</td>\n",
       "      <td>ACTIVIDADES CULTURALES Y DE OCIO\\nTEATRO\\n1. C...</td>\n",
       "      <td>B1_2004-05-14_E3_Q14</td>\n",
       "      <td>¿Qué concierto se puede escuchar en diciembre?</td>\n",
       "      <td>“Fairy Queen”.</td>\n",
       "      <td>“La flauta mágica”.</td>\n",
       "      <td>“Música religiosa en las catedrales”.</td>\n",
       "    </tr>\n",
       "    <tr>\n",
       "      <th>4</th>\n",
       "      <td>B1_2004-05-14_E3</td>\n",
       "      <td>ACTIVIDADES CULTURALES Y DE OCIO\\nTEATRO\\n1. C...</td>\n",
       "      <td>B1_2004-05-14_E3_Q15</td>\n",
       "      <td>Según el texto, ¿qué concierto podemos oír en ...</td>\n",
       "      <td>“La flauta mágica”.</td>\n",
       "      <td>“Música religiosa en las catedrales”.</td>\n",
       "      <td>“Broadway”.</td>\n",
       "    </tr>\n",
       "    <tr>\n",
       "      <th>5</th>\n",
       "      <td>B1_2004-05-14_E3</td>\n",
       "      <td>ACTIVIDADES CULTURALES Y DE OCIO\\nTEATRO\\n1. C...</td>\n",
       "      <td>B1_2004-05-14_E3_Q16</td>\n",
       "      <td>¿Cuál de los siguientes espectáculos musicales...</td>\n",
       "      <td>“La flauta mágica”.</td>\n",
       "      <td>“Música religiosa en las catedrales”.</td>\n",
       "      <td>“Broadway”.</td>\n",
       "    </tr>\n",
       "    <tr>\n",
       "      <th>6</th>\n",
       "      <td>B1_2004-05-14_E3</td>\n",
       "      <td>ACTIVIDADES CULTURALES Y DE OCIO\\nTEATRO\\n1. C...</td>\n",
       "      <td>B1_2004-05-14_E3_Q17</td>\n",
       "      <td>¿Qué viaje se puede pagar unos meses después d...</td>\n",
       "      <td>Hervás.</td>\n",
       "      <td>Doñana.</td>\n",
       "      <td>París.</td>\n",
       "    </tr>\n",
       "    <tr>\n",
       "      <th>7</th>\n",
       "      <td>B1_2004-05-14_E3</td>\n",
       "      <td>ACTIVIDADES CULTURALES Y DE OCIO\\nTEATRO\\n1. C...</td>\n",
       "      <td>B1_2004-05-14_E3_Q18</td>\n",
       "      <td>El viaje a París cuesta 350 € desde:</td>\n",
       "      <td>Madrid.</td>\n",
       "      <td>Barcelona.</td>\n",
       "      <td>cualquier ciudad española.</td>\n",
       "    </tr>\n",
       "    <tr>\n",
       "      <th>8</th>\n",
       "      <td>B1_2004-05-14_E3</td>\n",
       "      <td>ACTIVIDADES CULTURALES Y DE OCIO\\nTEATRO\\n1. C...</td>\n",
       "      <td>B1_2004-05-14_E3_Q19</td>\n",
       "      <td>En uno de los viajes se puede asistir a concie...</td>\n",
       "      <td>París.</td>\n",
       "      <td>Milán, Florencia y Génova.</td>\n",
       "      <td>Menorca.</td>\n",
       "    </tr>\n",
       "    <tr>\n",
       "      <th>9</th>\n",
       "      <td>B1_2004-05-14_E3</td>\n",
       "      <td>ACTIVIDADES CULTURALES Y DE OCIO\\nTEATRO\\n1. C...</td>\n",
       "      <td>B1_2004-05-14_E3_Q20</td>\n",
       "      <td>¿En qué viaje están incluidas todas las comidas?</td>\n",
       "      <td>Doñana.</td>\n",
       "      <td>París.</td>\n",
       "      <td>Menorca.</td>\n",
       "    </tr>\n",
       "  </tbody>\n",
       "</table>\n",
       "</div>"
      ],
      "text/plain": [
       "         exerciseID                                      exercise_text  \\\n",
       "0  B1_2004-05-14_E3  ACTIVIDADES CULTURALES Y DE OCIO\\nTEATRO\\n1. C...   \n",
       "1  B1_2004-05-14_E3  ACTIVIDADES CULTURALES Y DE OCIO\\nTEATRO\\n1. C...   \n",
       "2  B1_2004-05-14_E3  ACTIVIDADES CULTURALES Y DE OCIO\\nTEATRO\\n1. C...   \n",
       "3  B1_2004-05-14_E3  ACTIVIDADES CULTURALES Y DE OCIO\\nTEATRO\\n1. C...   \n",
       "4  B1_2004-05-14_E3  ACTIVIDADES CULTURALES Y DE OCIO\\nTEATRO\\n1. C...   \n",
       "5  B1_2004-05-14_E3  ACTIVIDADES CULTURALES Y DE OCIO\\nTEATRO\\n1. C...   \n",
       "6  B1_2004-05-14_E3  ACTIVIDADES CULTURALES Y DE OCIO\\nTEATRO\\n1. C...   \n",
       "7  B1_2004-05-14_E3  ACTIVIDADES CULTURALES Y DE OCIO\\nTEATRO\\n1. C...   \n",
       "8  B1_2004-05-14_E3  ACTIVIDADES CULTURALES Y DE OCIO\\nTEATRO\\n1. C...   \n",
       "9  B1_2004-05-14_E3  ACTIVIDADES CULTURALES Y DE OCIO\\nTEATRO\\n1. C...   \n",
       "\n",
       "             questionId                                      question_text  \\\n",
       "0  B1_2004-05-14_E3_Q11  En la obra “Carta de amor” el autor ha dedicad...   \n",
       "1  B1_2004-05-14_E3_Q12  ¿Para cuál de estas obras de teatro ya no se p...   \n",
       "2  B1_2004-05-14_E3_Q13  Una de estas obras de teatro está dirigida por...   \n",
       "3  B1_2004-05-14_E3_Q14     ¿Qué concierto se puede escuchar en diciembre?   \n",
       "4  B1_2004-05-14_E3_Q15  Según el texto, ¿qué concierto podemos oír en ...   \n",
       "5  B1_2004-05-14_E3_Q16  ¿Cuál de los siguientes espectáculos musicales...   \n",
       "6  B1_2004-05-14_E3_Q17  ¿Qué viaje se puede pagar unos meses después d...   \n",
       "7  B1_2004-05-14_E3_Q18               El viaje a París cuesta 350 € desde:   \n",
       "8  B1_2004-05-14_E3_Q19  En uno de los viajes se puede asistir a concie...   \n",
       "9  B1_2004-05-14_E3_Q20   ¿En qué viaje están incluidas todas las comidas?   \n",
       "\n",
       "                     A                                      B  \\\n",
       "0    los sentimientos.                              su madre.   \n",
       "1     “Carta de amor”.                    “Luces de bohemia”.   \n",
       "2  “Luces de bohemia”.                         “Pan con pan”.   \n",
       "3       “Fairy Queen”.                    “La flauta mágica”.   \n",
       "4  “La flauta mágica”.  “Música religiosa en las catedrales”.   \n",
       "5  “La flauta mágica”.  “Música religiosa en las catedrales”.   \n",
       "6              Hervás.                                Doñana.   \n",
       "7              Madrid.                             Barcelona.   \n",
       "8               París.             Milán, Florencia y Génova.   \n",
       "9              Doñana.                                 París.   \n",
       "\n",
       "                                       C  \n",
       "0                              la reina.  \n",
       "1                         “Pan con pan”.  \n",
       "2             “Defensa de Sancho Panza”.  \n",
       "3  “Música religiosa en las catedrales”.  \n",
       "4                            “Broadway”.  \n",
       "5                            “Broadway”.  \n",
       "6                                 París.  \n",
       "7             cualquier ciudad española.  \n",
       "8                               Menorca.  \n",
       "9                               Menorca.  "
      ]
     },
     "execution_count": 17,
     "metadata": {},
     "output_type": "execute_result"
    }
   ],
   "source": [
    "df"
   ]
  },
  {
   "cell_type": "code",
   "execution_count": null,
   "metadata": {},
   "outputs": [],
   "source": []
  }
 ],
 "metadata": {
  "kernelspec": {
   "display_name": "ml",
   "language": "python",
   "name": "python3"
  },
  "language_info": {
   "codemirror_mode": {
    "name": "ipython",
    "version": 3
   },
   "file_extension": ".py",
   "mimetype": "text/x-python",
   "name": "python",
   "nbconvert_exporter": "python",
   "pygments_lexer": "ipython3",
   "version": "3.13.2"
  }
 },
 "nbformat": 4,
 "nbformat_minor": 2
}
